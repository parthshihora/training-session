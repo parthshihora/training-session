{
 "cells": [
  {
   "cell_type": "markdown",
   "metadata": {},
   "source": [
    "## Scraper 1"
   ]
  },
  {
   "cell_type": "code",
   "execution_count": 223,
   "metadata": {},
   "outputs": [
    {
     "name": "stdout",
     "output_type": "stream",
     "text": [
      "div-1 This is line 1 \n",
      "div-1 This is line 2\n",
      "div-1 This is line 3\n",
      "div-1 This is line 4\n",
      "div-2 This is line 1 \n",
      "div-2 This is line 2\n",
      "div-2 This is line 3\n",
      "div-2 This is line 4\n",
      "div-3 This is line 1 \n",
      "div-3 This is line 2\n",
      "div-3 This is line 3\n",
      "div-3 This is line 4\n"
     ]
    }
   ],
   "source": [
    "import requests\n",
    "#from lxml import html\n",
    "import urllib.request\n",
    "from urllib.request import urlopen\n",
    "from bs4 import BeautifulSoup\n",
    "\n",
    "\n",
    "with open('sample.html') as file:\n",
    "    page = file.read()\n",
    "\n",
    "#tree = html.fromstring(page)\n",
    "\n",
    "soup = BeautifulSoup(page, 'html.parser')\n",
    "\n",
    "#find\n",
    "div = soup.find(\"div\")\n",
    "#print(div)\n",
    "\n",
    "#findALL --> returns list\n",
    "alldiv = soup.find_all(\"div\")\n",
    "#print(alldiv)\n",
    "\n",
    "cls_div = soup.find(\"div\", {\"class\": \"mydiv\"}    )\n",
    "#print(\"this is class div\", cls_div)\n",
    "\n",
    "for div in alldiv:\n",
    "    paras = div.find_all(\"p\")\n",
    "    for p in paras:\n",
    "        print(p.text)"
   ]
  },
  {
   "cell_type": "markdown",
   "metadata": {},
   "source": [
    "# Scraper 2"
   ]
  },
  {
   "cell_type": "code",
   "execution_count": 141,
   "metadata": {},
   "outputs": [],
   "source": [
    "import requests\n",
    "import urllib.request\n",
    "from urllib.request import urlopen\n",
    "import time\n",
    "from bs4 import BeautifulSoup\n",
    "import csv"
   ]
  },
  {
   "cell_type": "code",
   "execution_count": 225,
   "metadata": {},
   "outputs": [
    {
     "data": {
      "text/plain": [
       "<Response [200]>"
      ]
     },
     "execution_count": 225,
     "metadata": {},
     "output_type": "execute_result"
    }
   ],
   "source": [
    "url = \"https://techcrunch.com/\"\n",
    "response = requests.get(url)\n",
    "#html = urlopen(url)"
   ]
  },
  {
   "cell_type": "code",
   "execution_count": 228,
   "metadata": {},
   "outputs": [
    {
     "name": "stdout",
     "output_type": "stream",
     "text": [
      "https://techcrunch.com/2019/07/09/the-commerce-department-will-accept-applications-from-companies-that-want-to-supply-huawei-but-it-remains-blacklisted/\n",
      "\n",
      "\t\t\t\tThe Commerce Department will accept applications from companies that want to supply Huawei, but it remains blacklisted\t\t\t\n",
      "https://techcrunch.com/author/catherine-shu/\n",
      "\n",
      "\t\t\t\tCatherine Shu\t\t\t\n",
      "https://techcrunch.com/2019/07/09/the-commerce-department-will-accept-applications-from-companies-that-want-to-supply-huawei-but-it-remains-blacklisted/\n",
      "\n",
      "\n",
      "\n",
      "\n",
      "https://techcrunch.com/2019/07/09/inrix-expands-its-digital-rule-book-beyond-self-driving-cars-to-help-cities-with-scooters-bikes-and-delivery-bots/\n",
      "\n",
      "\t\t\t\tInrix expands its digital rule book beyond self-driving cars to help cities with scooters, bikes and delivery bots\t\t\t\n",
      "https://techcrunch.com/author/kirsten-korosec/\n",
      "\n",
      "\t\t\t\tKirsten Korosec\t\t\t\n",
      "https://techcrunch.com/2019/07/09/inrix-expands-its-digital-rule-book-beyond-self-driving-cars-to-help-cities-with-scooters-bikes-and-delivery-bots/\n",
      "\n",
      "\n",
      "\n",
      "\n",
      "https://techcrunch.com/2019/07/09/doctours-offers-packaged-medical-tourism-for-u-s-customers/\n",
      "\n",
      "\t\t\t\tDoctours offers packaged medical tourism for U.S. customers\t\t\t\n",
      "https://techcrunch.com/author/jonathan-shieber/\n",
      "\n",
      "\t\t\t\tJonathan Shieber\t\t\t\n",
      "https://techcrunch.com/2019/07/09/doctours-offers-packaged-medical-tourism-for-u-s-customers/\n",
      "\n",
      "\n",
      "\n",
      "\n",
      "https://techcrunch.com/2019/07/09/digital-health-is-growing-fast-but-at-what-cost/\n",
      "\n",
      "\t\t\t\tDigital health is growing fast — but at what cost?\t\t\t\n",
      "https://techcrunch.com/author/\n",
      "\n",
      "\t\t\t\tChris Hogg\t\t\t\n",
      "https://techcrunch.com/2019/07/09/digital-health-is-growing-fast-but-at-what-cost/\n",
      "\n",
      "\n",
      "\n",
      "\n",
      "https://techcrunch.com/2019/07/09/dockless-bikes-except-for-jumps-are-still-on-hold-in-sf/\n",
      "\n",
      "\t\t\t\tDockless bikes, except for JUMP’s, are still on hold in SF\t\t\t\n",
      "https://techcrunch.com/author/megan-rose-dickey/\n",
      "\n",
      "\t\t\t\tMegan Rose Dickey\t\t\t\n",
      "https://techcrunch.com/2019/07/09/dockless-bikes-except-for-jumps-are-still-on-hold-in-sf/\n",
      "\n",
      "\n",
      "\n",
      "\n",
      "https://techcrunch.com/2019/07/09/twitter-updates-hate-speech-rules-to-include-dehumanizing-speech-around-religion/\n",
      "\n",
      "\t\t\t\tTwitter updates hate speech rules to include dehumanizing speech around religion\t\t\t\n",
      "https://techcrunch.com/author/jonathan-shieber/\n",
      "\n",
      "\t\t\t\tJonathan Shieber\t\t\t\n",
      "https://techcrunch.com/2019/07/09/twitter-updates-hate-speech-rules-to-include-dehumanizing-speech-around-religion/\n",
      "\n",
      "\n",
      "\n",
      "\n",
      "https://techcrunch.com/2019/07/09/flaws-anesthesia-respiratory-devices-tampering/\n",
      "\n",
      "\t\t\t\tFlaws in hospital anesthesia and respiratory devices allow remote tampering\t\t\t\n",
      "https://techcrunch.com/author/zack-whittaker/\n",
      "\n",
      "\t\t\t\tZack Whittaker\t\t\t\n",
      "https://techcrunch.com/2019/07/09/flaws-anesthesia-respiratory-devices-tampering/\n",
      "\n",
      "\n",
      "\n",
      "\n",
      "https://techcrunch.com/2019/07/09/bumble-chief-responds-to-reports-of-misconduct-at-parent-company-badoo/\n",
      "\n",
      "\t\t\t\tBumble chief responds to reports of misconduct at parent company\t\t\t\n",
      "https://techcrunch.com/author/lucas-matney/\n",
      "\n",
      "\t\t\t\tLucas Matney\t\t\t\n",
      "https://techcrunch.com/2019/07/09/bumble-chief-responds-to-reports-of-misconduct-at-parent-company-badoo/\n",
      "\n",
      "\n",
      "\n",
      "\n",
      "https://techcrunch.com/2019/07/09/darkmatter-firefox-certificates/\n",
      "\n",
      "\t\t\t\tMozilla blocks spy firm DarkMatter from Firefox citing ‘significant risk’ to users\t\t\t\n",
      "https://techcrunch.com/author/zack-whittaker/\n",
      "\n",
      "\t\t\t\tZack Whittaker\t\t\t\n",
      "https://techcrunch.com/2019/07/09/darkmatter-firefox-certificates/\n",
      "\n",
      "\n",
      "\n",
      "\n",
      "https://techcrunch.com/2019/07/09/fresh-tickets-to-our-14th-annual-techcrunch-summer-party/\n",
      "\n",
      "\t\t\t\tFresh tickets to our 14th Annual TechCrunch Summer Party\t\t\t\n",
      "https://techcrunch.com/author/emma-comeau/\n",
      "\n",
      "\t\t\t\tEmma Comeau\t\t\t\n",
      "https://techcrunch.com/2019/07/09/fresh-tickets-to-our-14th-annual-techcrunch-summer-party/\n",
      "\n",
      "\n",
      "\n",
      "\n",
      "https://techcrunch.com/2019/07/09/youtube-lands-on-fire-tv-and-amazon-prime-video-arrives-on-chromecast-android-tv/\n",
      "\n",
      "\t\t\t\tYouTube lands on Fire TV and Amazon Prime Video arrives on Chromecast, Android TV\t\t\t\n",
      "https://techcrunch.com/author/darrell-etherington/\n",
      "\n",
      "\t\t\t\tDarrell Etherington\t\t\t\n",
      "https://techcrunch.com/2019/07/09/youtube-lands-on-fire-tv-and-amazon-prime-video-arrives-on-chromecast-android-tv/\n",
      "\n",
      "\n",
      "\n",
      "\n",
      "https://techcrunch.com/2019/07/09/cloosiv-gives-local-coffee-shops-a-mobile-ordering-experience-on-par-with-the-mega-chains/\n",
      "\n",
      "\t\t\t\tCloosiv gives local coffee shops a mobile ordering experience on par with the mega chains\t\t\t\n",
      "https://techcrunch.com/author/greg-kumparak/\n",
      "\n",
      "\t\t\t\tGreg Kumparak\t\t\t\n",
      "https://techcrunch.com/2019/07/09/cloosiv-gives-local-coffee-shops-a-mobile-ordering-experience-on-par-with-the-mega-chains/\n",
      "\n",
      "\n",
      "\n",
      "\n",
      "https://techcrunch.com/2019/07/09/bosch-launches-cloud-connected-battery-management-to-extend-the-life-of-ev-batteries/\n",
      "\n",
      "\t\t\t\tBosch launches cloud-connected battery management to extend the life of EV batteries\t\t\t\n",
      "https://techcrunch.com/author/jonathan-shieber/\n",
      "\n",
      "\t\t\t\tJonathan Shieber\t\t\t\n",
      "https://techcrunch.com/2019/07/09/bosch-launches-cloud-connected-battery-management-to-extend-the-life-of-ev-batteries/\n",
      "\n",
      "\n",
      "\n",
      "\n",
      "https://techcrunch.com/2019/07/09/bunq-lets-you-track-and-settle-up-group-expenses/\n",
      "\n",
      "\t\t\t\tBunq lets you track and settle up group expenses\t\t\t\n",
      "https://techcrunch.com/author/romain-dillet/\n",
      "\n",
      "\t\t\t\tRomain Dillet\t\t\t\n",
      "https://techcrunch.com/2019/07/09/bunq-lets-you-track-and-settle-up-group-expenses/\n",
      "\n",
      "\n",
      "\n",
      "\n",
      "https://techcrunch.com/2019/07/09/spoiler-warning-this-neural-network-spots-dangerous-reviews-before-you-read-them/\n",
      "\n",
      "\t\t\t\tSpoiler warning! This neural network spots dangerous reviews before you read them\t\t\t\n",
      "https://techcrunch.com/author/devin-coldewey/\n",
      "\n",
      "\t\t\t\tDevin Coldewey\t\t\t\n",
      "https://techcrunch.com/2019/07/09/spoiler-warning-this-neural-network-spots-dangerous-reviews-before-you-read-them/\n",
      "\n",
      "\n",
      "\n",
      "\n",
      "https://techcrunch.com/2019/07/09/atts-new-streaming-service-hbo-max-arrives-in-2020-will-be-the-exclusive-home-of-friends/\n",
      "\n",
      "\t\t\t\tAT&T’s new streaming service HBO Max arrives in 2020, will be the exclusive home of ‘Friends’\t\t\t\n",
      "https://techcrunch.com/author/darrell-etherington/\n",
      "\n",
      "\t\t\t\tDarrell Etherington\t\t\t\n",
      "https://techcrunch.com/2019/07/09/atts-new-streaming-service-hbo-max-arrives-in-2020-will-be-the-exclusive-home-of-friends/\n",
      "\n",
      "\n",
      "\n",
      "\n",
      "https://techcrunch.com/2019/07/09/ibm-closes-red-hat-acquisition-for-34-billion/\n",
      "\n",
      "\t\t\t\tIBM closes Red Hat acquisition for $34 billion\t\t\t\n",
      "https://techcrunch.com/author/greg-kumparak/\n",
      "\n",
      "\t\t\t\tGreg Kumparak\t\t\t\n",
      "https://techcrunch.com/2019/07/09/ibm-closes-red-hat-acquisition-for-34-billion/\n",
      "\n",
      "\n",
      "\n",
      "\n",
      "https://techcrunch.com/2019/07/09/volkswagen-beetle-production-ends/\n",
      "\n",
      "\t\t\t\tProduction of the Volkswagen Beetle officially comes to an end\t\t\t\n",
      "https://techcrunch.com/author/darrell-etherington/\n",
      "\n",
      "\t\t\t\tDarrell Etherington\t\t\t\n",
      "https://techcrunch.com/2019/07/09/volkswagen-beetle-production-ends/\n",
      "\n",
      "\n",
      "\n",
      "\n",
      "https://techcrunch.com/2019/07/09/after-selling-auris-for-3-4-billion-to-jj-ceo-frederic-moll-and-lead-investor-ajay-royan-come-to-disrupt/\n",
      "\n",
      "\t\t\t\tAfter selling Auris for $3.4 billion to J&J, CEO Frederic Moll and lead investor Ajay Royan come to Disrupt\t\t\t\n",
      "https://techcrunch.com/author/jonathan-shieber/\n",
      "\n",
      "\t\t\t\tJonathan Shieber\t\t\t\n",
      "https://techcrunch.com/2019/07/09/after-selling-auris-for-3-4-billion-to-jj-ceo-frederic-moll-and-lead-investor-ajay-royan-come-to-disrupt/\n",
      "\n",
      "\n",
      "\n",
      "\n",
      "https://techcrunch.com/2019/07/09/daily-crunch-instagram-fights-bullying/\n",
      "\n",
      "\t\t\t\tDaily Crunch: Instagram fights bullying\t\t\t\n",
      "https://techcrunch.com/author/anthony-ha/\n",
      "\n",
      "\t\t\t\tAnthony Ha\t\t\t\n",
      "https://techcrunch.com/2019/07/09/daily-crunch-instagram-fights-bullying/\n",
      "\n",
      "\n",
      "\n",
      "\n",
      "https://techcrunch.com/page/2/\n",
      "\n",
      "Load More\n",
      "\n"
     ]
    }
   ],
   "source": [
    "soup = BeautifulSoup(response.text, 'html.parser')\n",
    "\n",
    "mydiv = soup.find(\"div\", {\"class\": \"river river--homepage\"})\n",
    "title = mydiv.findAll(\"a\")\n",
    "\n",
    "with open('links.csv', 'w') as f:\n",
    "    for t in title:\n",
    "        print (t.get('href'))\n",
    "        print(t.text)\n",
    "        f.write(t.get('href')+'\\n')\n",
    "\n",
    "    "
   ]
  },
  {
   "cell_type": "markdown",
   "metadata": {},
   "source": [
    "# Scraper 3"
   ]
  },
  {
   "cell_type": "code",
   "execution_count": 229,
   "metadata": {},
   "outputs": [
    {
     "data": {
      "text/plain": [
       "<Response [200]>"
      ]
     },
     "execution_count": 229,
     "metadata": {},
     "output_type": "execute_result"
    }
   ],
   "source": [
    "url = 'https://www.tutorialspoint.com/python/python_pdf_version.htm'\n",
    "response = requests.get(url)\n"
   ]
  },
  {
   "cell_type": "code",
   "execution_count": 158,
   "metadata": {},
   "outputs": [
    {
     "name": "stdout",
     "output_type": "stream",
     "text": [
      "Python - Home\n",
      "Python - Overview\n",
      "Python - Environment Setup\n",
      "Python - Basic Syntax\n",
      "Python - Variable Types\n",
      "Python - Basic Operators\n",
      "Python - Decision Making\n",
      "Python - Loops\n",
      "Python - Numbers\n",
      "Python - Strings\n",
      "Python - Lists\n",
      "Python - Tuples\n",
      "Python - Dictionary\n",
      "Python - Date & Time\n",
      "Python - Functions\n",
      "Python - Modules\n",
      "Python - Files I/O\n",
      "Python - Exceptions\n",
      "Python - Classes/Objects\n",
      "Python - Reg Expressions\n",
      "Python - CGI Programming\n",
      "Python - Database Access\n",
      "Python - Networking\n",
      "Python - Sending Email\n",
      "Python - Multithreading\n",
      "Python - XML Processing\n",
      "Python - GUI Programming\n",
      "Python - Further Extensions\n",
      "Python - Questions and Answers\n",
      "Python - Quick Guide\n",
      "Python - Tools/Utilities\n",
      "Python - Useful Resources\n",
      "Python - Discussion\n"
     ]
    }
   ],
   "source": [
    "soup = BeautifulSoup(response.text, 'html.parser')\n",
    "\n",
    "topics = soup.findAll(\"ul\", {\"class\":\"nav nav-list primary left-menu\"})\n",
    "\n",
    "\n",
    "for topic in topics:\n",
    "    links = topic.findAll(\"a\")\n",
    "    for link in links:\n",
    "        name = link.text\n",
    "        print(name)\n",
    "        page = requests.get('https://www.tutorialspoint.com'+link.get('href'))\n",
    "        new_soup = BeautifulSoup(page.text, 'html.parser')\n",
    "        content = new_soup.find('div',{\"class\":\"content\"})\n",
    "        "
   ]
  },
  {
   "cell_type": "markdown",
   "metadata": {},
   "source": [
    "## all()"
   ]
  },
  {
   "cell_type": "code",
   "execution_count": 162,
   "metadata": {},
   "outputs": [
    {
     "name": "stdout",
     "output_type": "stream",
     "text": [
      "True\n"
     ]
    }
   ],
   "source": [
    "# for list\n",
    "l = [1,2,3,1]\n",
    "\n",
    "print(all(l))"
   ]
  },
  {
   "cell_type": "code",
   "execution_count": 165,
   "metadata": {},
   "outputs": [
    {
     "ename": "TypeError",
     "evalue": "'NoneType' object is not iterable",
     "output_type": "error",
     "traceback": [
      "\u001b[0;31m---------------------------------------------------------------------------\u001b[0m",
      "\u001b[0;31mTypeError\u001b[0m                                 Traceback (most recent call last)",
      "\u001b[0;32m<ipython-input-165-1f26c816d58e>\u001b[0m in \u001b[0;36m<module>\u001b[0;34m()\u001b[0m\n\u001b[1;32m      2\u001b[0m \u001b[0;34m\u001b[0m\u001b[0m\n\u001b[1;32m      3\u001b[0m \u001b[0ms\u001b[0m \u001b[0;34m=\u001b[0m \u001b[0;32mNone\u001b[0m\u001b[0;34m\u001b[0m\u001b[0m\n\u001b[0;32m----> 4\u001b[0;31m \u001b[0mprint\u001b[0m\u001b[0;34m(\u001b[0m\u001b[0mall\u001b[0m\u001b[0;34m(\u001b[0m\u001b[0ms\u001b[0m\u001b[0;34m)\u001b[0m\u001b[0;34m)\u001b[0m\u001b[0;34m\u001b[0m\u001b[0m\n\u001b[0m\u001b[1;32m      5\u001b[0m \u001b[0;34m\u001b[0m\u001b[0m\n\u001b[1;32m      6\u001b[0m \u001b[0;31m#  \"00\" -- > True\u001b[0m\u001b[0;34m\u001b[0m\u001b[0;34m\u001b[0m\u001b[0m\n",
      "\u001b[0;31mTypeError\u001b[0m: 'NoneType' object is not iterable"
     ]
    }
   ],
   "source": [
    "# for string\n",
    "\n",
    "s = \n",
    "print(all(s))\n",
    "\n",
    "#  \"00\" -- > True\n",
    "# 0 --> False\n"
   ]
  },
  {
   "cell_type": "code",
   "execution_count": 171,
   "metadata": {},
   "outputs": [
    {
     "name": "stdout",
     "output_type": "stream",
     "text": [
      "True\n"
     ]
    }
   ],
   "source": [
    "# for dictionary\n",
    "\n",
    "d = {1: 'False', 1: 'False'}\n",
    "#print(all(d))\n",
    "\n",
    "d = {0:False}\n",
    "#print(all(d))\n",
    "\n",
    "d = {0:True, 1:False}\n",
    "#print(all(d))\n",
    "\n",
    "d = {}\n",
    "print(all(d))"
   ]
  },
  {
   "cell_type": "markdown",
   "metadata": {},
   "source": [
    "## any()"
   ]
  },
  {
   "cell_type": "code",
   "execution_count": 174,
   "metadata": {},
   "outputs": [
    {
     "name": "stdout",
     "output_type": "stream",
     "text": [
      "True\n"
     ]
    }
   ],
   "source": [
    "# for list\n",
    "l1 = [1,0,0,0]\n",
    "l2 = []\n",
    "print(any(l1))"
   ]
  },
  {
   "cell_type": "code",
   "execution_count": 176,
   "metadata": {},
   "outputs": [
    {
     "name": "stdout",
     "output_type": "stream",
     "text": [
      "False\n"
     ]
    }
   ],
   "source": [
    "# for string\n",
    "\n",
    "s = \"abcd efgh\"\n",
    "#print(any(s))\n",
    "\n",
    "s = \"\"\n",
    "print(any(s))\n",
    "\n",
    "#  \"00\" -- > True\n",
    "# 0 --> False"
   ]
  },
  {
   "cell_type": "code",
   "execution_count": 182,
   "metadata": {},
   "outputs": [
    {
     "name": "stdout",
     "output_type": "stream",
     "text": [
      "False\n"
     ]
    }
   ],
   "source": [
    "# for dictionary\n",
    "\n",
    "d = {0: 'False', 1: 'False'}\n",
    "#print(any(d))\n",
    "\n",
    "d = {0:False,0:'zero',1:'one'}\n",
    "#print(any(d))\n",
    "\n",
    "d = {0:True, 1:False}\n",
    "#print(all(d))\n",
    "\n",
    "d = {}\n",
    "print(any(d))"
   ]
  },
  {
   "cell_type": "markdown",
   "metadata": {},
   "source": [
    "## lambda"
   ]
  },
  {
   "cell_type": "code",
   "execution_count": 186,
   "metadata": {},
   "outputs": [
    {
     "name": "stdout",
     "output_type": "stream",
     "text": [
      "9\n"
     ]
    }
   ],
   "source": [
    "# simple lambda function\n",
    "def square_normal(n):\n",
    "    return n**2\n",
    "\n",
    "\n",
    "square = lambda i : i ** 2\n",
    "\n",
    "#print(square(5))\n",
    "print(square_normal(3))"
   ]
  },
  {
   "cell_type": "code",
   "execution_count": 188,
   "metadata": {},
   "outputs": [
    {
     "name": "stdout",
     "output_type": "stream",
     "text": [
      "[(5, 'a'), (2, 'c'), (4, 'd'), (0, 'f')]\n"
     ]
    }
   ],
   "source": [
    "# lambda with sort function\n",
    "l = [(0,\"f\"), (5,\"a\"), (2,\"c\"), (4,\"d\")]\n",
    "l1 = [1,4,2,6]\n",
    "\n",
    "#print(sorted(l1))\n",
    "#i = (0,\"a\")\n",
    "#i[0] = 0\n",
    "#i[1] = \"a\"\n",
    "print(sorted(l, key = lambda i : i[1]))"
   ]
  },
  {
   "cell_type": "markdown",
   "metadata": {},
   "source": [
    "## map()"
   ]
  },
  {
   "cell_type": "code",
   "execution_count": 189,
   "metadata": {},
   "outputs": [
    {
     "name": "stdout",
     "output_type": "stream",
     "text": [
      "[False, True, True, False, True]\n"
     ]
    }
   ],
   "source": [
    "# map without lambda\n",
    "def even_odd(num):\n",
    "    if num % 2 == 0:\n",
    "        return True\n",
    "    return False\n",
    "\n",
    "l = [3,2,6,3,4]\n",
    "\n",
    "print(list(map(even_odd,l)))\n",
    "#map(even_odd, l )"
   ]
  },
  {
   "cell_type": "code",
   "execution_count": 190,
   "metadata": {},
   "outputs": [
    {
     "name": "stdout",
     "output_type": "stream",
     "text": [
      "[False, True, True, False, True]\n"
     ]
    }
   ],
   "source": [
    "# map with lambda\n",
    "\n",
    "#map(lambda i:not bool(i % 2))\n",
    "result = list(map(lambda i:not bool(i % 2),l))\n",
    "\n",
    "\n",
    "print(result)"
   ]
  },
  {
   "cell_type": "markdown",
   "metadata": {},
   "source": [
    "## reduce()"
   ]
  },
  {
   "cell_type": "code",
   "execution_count": 192,
   "metadata": {},
   "outputs": [
    {
     "name": "stdout",
     "output_type": "stream",
     "text": [
      "193\n"
     ]
    }
   ],
   "source": [
    "# reduce with lambda\n",
    "\n",
    "#from functools import reduce\n",
    "\n",
    "li = [5, 8, 10, 20, 50, 100]\n",
    "sum = reduce((lambda x, y: x + y), li) \n",
    "print (sum) \n"
   ]
  },
  {
   "cell_type": "code",
   "execution_count": 194,
   "metadata": {},
   "outputs": [
    {
     "name": "stdout",
     "output_type": "stream",
     "text": [
      "Factorial of 3:  6\n"
     ]
    }
   ],
   "source": [
    "# reduce without lambda\n",
    "\n",
    "def mult(x,y):\n",
    "    return x*y\n",
    "\n",
    "fact=reduce(mult, range(1, 4))\n",
    "print ('Factorial of 3: ', fact)\n"
   ]
  },
  {
   "cell_type": "code",
   "execution_count": 196,
   "metadata": {},
   "outputs": [
    {
     "name": "stdout",
     "output_type": "stream",
     "text": [
      "We work at MTX\n"
     ]
    }
   ],
   "source": [
    "# concate string\n",
    "\n",
    "s = [\"We\", \"work\", \"at\", \"MTX\"]\n",
    "\n",
    "lambda w1,w2:w1+w2\n",
    "print(reduce(lambda w1,w2:w1+\" \"+w2, s))"
   ]
  },
  {
   "cell_type": "markdown",
   "metadata": {},
   "source": [
    "## filter()"
   ]
  },
  {
   "cell_type": "code",
   "execution_count": 197,
   "metadata": {},
   "outputs": [
    {
     "data": {
      "text/plain": [
       "[1, 3, 5, 7]"
      ]
     },
     "execution_count": 197,
     "metadata": {},
     "output_type": "execute_result"
    }
   ],
   "source": [
    "# Without lambda\n",
    "\n",
    "lst = [1,2,3,4,5,7]\n",
    "def get_odd(n):\n",
    "    if n % 2 != 0:\n",
    "        return True\n",
    "    return False\n",
    "\n",
    "result = filter(get_odd,lst)\n",
    "list(result)\n"
   ]
  },
  {
   "cell_type": "code",
   "execution_count": 199,
   "metadata": {},
   "outputs": [
    {
     "data": {
      "text/plain": [
       "['kanak', 'gig', 'abccba']"
      ]
     },
     "execution_count": 199,
     "metadata": {},
     "output_type": "execute_result"
    }
   ],
   "source": [
    "# With lambda\n",
    "\n",
    "words = [\"kanak\",\"gig\",\"something\",\"india\",\"abccba\"]\n",
    "\n",
    "#print(words[1][::-1])\n",
    "result = filter(lambda word : word == word[::-1],words)\n",
    "list(result)"
   ]
  },
  {
   "cell_type": "markdown",
   "metadata": {},
   "source": [
    "## json"
   ]
  },
  {
   "cell_type": "code",
   "execution_count": 203,
   "metadata": {},
   "outputs": [
    {
     "data": {
      "text/plain": [
       "['English', 'Fench']"
      ]
     },
     "execution_count": 203,
     "metadata": {},
     "output_type": "execute_result"
    }
   ],
   "source": [
    "#parsing json \n",
    "import json\n",
    "\n",
    "person = '{\"name\": \"Bob\", \"languages\": [\"English\", \"Fench\"],\"age\": 35}'\n",
    "\n",
    "dic = json.loads(person)\n",
    "dic['languages']\n"
   ]
  },
  {
   "cell_type": "code",
   "execution_count": 204,
   "metadata": {},
   "outputs": [
    {
     "name": "stdout",
     "output_type": "stream",
     "text": [
      "first_name John\n",
      "last_name Doe\n",
      "DOB 03-23-2001\n",
      "courses ['CS 101', 'CS 202', 'CS 303']\n"
     ]
    }
   ],
   "source": [
    "# read json data from file\n",
    "\n",
    "with open(\"student.json\") as file:\n",
    "    data = json.load(file)\n",
    "\n",
    "for k,v in data.items():\n",
    "    print(k,v)"
   ]
  },
  {
   "cell_type": "code",
   "execution_count": 212,
   "metadata": {},
   "outputs": [
    {
     "name": "stdout",
     "output_type": "stream",
     "text": [
      "Bob 3\n",
      "Tom 3\n",
      "Sally 3\n"
     ]
    }
   ],
   "source": [
    "with open(\"nested.json\") as file:\n",
    "    data = json.load(file)\n",
    "\n",
    "\n",
    "for item in data[\"Results\"]:\n",
    "    print(item[\"Name\"], item[\"Items\"]['Books'])\n",
    "    #print(item[\"Name\"], item[\"Items\"][\"Cars\"])\n",
    "#for k,v in data.items():\n",
    "#    print(k,v)"
   ]
  },
  {
   "cell_type": "code",
   "execution_count": 213,
   "metadata": {},
   "outputs": [
    {
     "name": "stdout",
     "output_type": "stream",
     "text": [
      "{\"name\": \"Bob\", \"languages\": [\"English\", \"Fench\"], \"age\": 35}\n"
     ]
    }
   ],
   "source": [
    "# Convert dict to JSON\n",
    "\n",
    "person = {\n",
    "          \"name\": \"Bob\", \n",
    "          \"languages\": [\"English\", \"Fench\"], \n",
    "          \"age\": 35\n",
    "         }\n",
    "\n",
    "json_obj = json.dumps(person)\n",
    "#print(type(json_obj), json_obj)\n",
    "\n",
    "print(json_obj)"
   ]
  },
  {
   "cell_type": "code",
   "execution_count": 214,
   "metadata": {},
   "outputs": [],
   "source": [
    "# Write to JSON file\n",
    "\n",
    "with open(\"person.json\", \"w\") as file:\n",
    "    json.dump(person, file)"
   ]
  },
  {
   "cell_type": "code",
   "execution_count": 230,
   "metadata": {},
   "outputs": [],
   "source": [
    "d = {\n",
    "    \"Results\": [\n",
    "            {\"Id\": \"001\",\n",
    "            \"Name\": \"Bob\",\n",
    "            \"Items\": {\n",
    "                \"Cars\": \"1\",\n",
    "                \"Books\": \"3\",\n",
    "                \"Phones\": \"1\"}\n",
    "            },\n",
    "\n",
    "            {\"Id\": \"002\",\n",
    "            \"Name\": \"Tom\",\n",
    "            \"Items\": {\n",
    "                \"Cars\": \"1\",\n",
    "                \"Books\": \"3\",\n",
    "                \"Phones\": \"1\"}\n",
    "            },\n",
    "\n",
    "            {\"Id\": \"003\",\n",
    "            \"Name\": \"Sally\",\n",
    "            \"Items\": {\n",
    "                \"Cars\": \"1\",\n",
    "                \"Books\": \"3\",\n",
    "                \"Phones\": \"1\"}\n",
    "            }\n",
    "    ]\n",
    "}\n",
    "\n",
    "with open(\"info.json\", \"w\") as file:\n",
    "    json.dump(d, file)"
   ]
  },
  {
   "cell_type": "markdown",
   "metadata": {},
   "source": [
    "## ASCII to char and vice-versa"
   ]
  },
  {
   "cell_type": "code",
   "execution_count": 231,
   "metadata": {},
   "outputs": [
    {
     "name": "stdout",
     "output_type": "stream",
     "text": [
      "97\n"
     ]
    }
   ],
   "source": [
    "print(ord('a'))"
   ]
  },
  {
   "cell_type": "code",
   "execution_count": 232,
   "metadata": {},
   "outputs": [
    {
     "name": "stdout",
     "output_type": "stream",
     "text": [
      "a\n"
     ]
    }
   ],
   "source": [
    "print(chr(97))"
   ]
  },
  {
   "cell_type": "code",
   "execution_count": 234,
   "metadata": {},
   "outputs": [
    {
     "name": "stdout",
     "output_type": "stream",
     "text": [
      "<_sre.SRE_Match object; span=(0, 12), match='abc@gmail.ac'>\n"
     ]
    }
   ],
   "source": [
    "import re\n",
    "\n",
    "pattern = \"([0-9a-z.]+)@(([^@][0-9a-z]+)[.][a-z]{2,3})\"\n",
    "string = \"abc@gmail.ac.in\"\n",
    "\n",
    "print(re.match(pattern,string))"
   ]
  },
  {
   "cell_type": "code",
   "execution_count": null,
   "metadata": {},
   "outputs": [],
   "source": []
  }
 ],
 "metadata": {
  "kernelspec": {
   "display_name": "Python 3",
   "language": "python",
   "name": "python3"
  },
  "language_info": {
   "codemirror_mode": {
    "name": "ipython",
    "version": 3
   },
   "file_extension": ".py",
   "mimetype": "text/x-python",
   "name": "python",
   "nbconvert_exporter": "python",
   "pygments_lexer": "ipython3",
   "version": "3.6.5"
  }
 },
 "nbformat": 4,
 "nbformat_minor": 2
}
