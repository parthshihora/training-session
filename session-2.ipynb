{
 "cells": [
  {
   "cell_type": "markdown",
   "metadata": {},
   "source": [
    "# File handling"
   ]
  },
  {
   "cell_type": "code",
   "execution_count": 88,
   "metadata": {},
   "outputs": [
    {
     "name": "stdout",
     "output_type": "stream",
     "text": [
      "this is file pointer 0\n",
      "First 4 chars John\n"
     ]
    }
   ],
   "source": [
    "# File object\n",
    "file_obj = open('test.txt','r')\n",
    "\n",
    "content = file_obj.readlines()\n",
    "#print(content)\n",
    "for line in content:\n",
    "    pass\n",
    "\n",
    "# seek and tell\n",
    "file_obj.seek(0)\n",
    "print(\"this is file pointer\",file_obj.tell())\n",
    "data = file_obj.read(4)\n",
    "print(\"First 4 chars\",data )\n",
    "\n",
    "#print(file_obj.tell())\n",
    "#file_obj.seek(5)\n",
    "#print('data',file_obj.read(4))'''\n",
    "\n"
   ]
  },
  {
   "cell_type": "code",
   "execution_count": 89,
   "metadata": {},
   "outputs": [
    {
     "name": "stdout",
     "output_type": "stream",
     "text": [
      ",doe,34\n",
      "\n",
      "Alice,smith,24\n",
      "\n",
      "Jason,segal,21\n",
      "\n",
      "Bob,william,45\n"
     ]
    }
   ],
   "source": [
    "# Reading from file, read(), readline(), readlines()\n",
    "for l in file_obj:\n",
    "    print(l)\n",
    "\n"
   ]
  },
  {
   "cell_type": "code",
   "execution_count": 92,
   "metadata": {},
   "outputs": [],
   "source": [
    "# Writing from file, write(), writelines()\n",
    "file_obj_w = open('write.txt','w')\n",
    "file_obj_w.write('this is line 1')\n",
    "\n",
    "lines = [\"This is line 1\\n\",\"This is line 2\\n\",\"This is line 3\\n\",\"This is line 4\\n\"]\n",
    "file_obj_w.writelines(lines)\n",
    "file_obj_w.close()\n",
    "#for line in lines:\n"
   ]
  },
  {
   "cell_type": "code",
   "execution_count": 80,
   "metadata": {},
   "outputs": [
    {
     "name": "stdout",
     "output_type": "stream",
     "text": [
      "John,doe,34\n",
      "\n",
      "Alice,smith,24\n",
      "\n",
      "Jason,segal,21\n",
      "\n",
      "Bob,william,45\n",
      "new file this is new line\n"
     ]
    }
   ],
   "source": [
    "# File handling with \"with\" keyword\n",
    "with open('test.txt', 'r') as file:\n",
    "    lines = file.readlines()\n",
    "    for line in lines:\n",
    "        print(line)\n",
    "\n",
    "with open('write.txt','w') as file:\n",
    "    file.write('this is new line')\n",
    "\n",
    "with open('write.txt') as file:\n",
    "    print('new file',file.read())\n",
    "    \n",
    "    "
   ]
  },
  {
   "cell_type": "markdown",
   "metadata": {},
   "source": [
    "Working with CSV file"
   ]
  },
  {
   "cell_type": "code",
   "execution_count": 94,
   "metadata": {},
   "outputs": [
    {
     "name": "stdout",
     "output_type": "stream",
     "text": [
      "['state/region', 'ages', 'year', 'population']\n",
      "2545\n"
     ]
    }
   ],
   "source": [
    "# Reading csv file\n",
    "\n",
    "import csv\n",
    "\n",
    "with open('state-population.csv', 'r') as csvfile:\n",
    "    read = csv.reader(csvfile)\n",
    "    print(next(read))\n",
    "    for row in read:\n",
    "        pass\n",
    "print(read.line_num)"
   ]
  },
  {
   "cell_type": "code",
   "execution_count": 95,
   "metadata": {},
   "outputs": [],
   "source": [
    "# Writing CSV file\n",
    "import csv\n",
    "\n",
    "fields = ['Name', 'Branch', 'Year', 'CGPA'] \n",
    "  \n",
    "# data rows of csv file \n",
    "rows = [ ['Nikhil', 'COE', '2', '9.0'], \n",
    "         ['Sanchit', 'COE', '2', '9.1'], \n",
    "         ['Aditya', 'IT', '2', '9.3'], \n",
    "         ['Sagar', 'SE', '1', '9.5'], \n",
    "         ['Prateek', 'MCE', '3', '7.8'], \n",
    "         ['Sahil', 'EP', '2', '9.1']]\n",
    "\n",
    "with open('students_new.csv', 'w') as csvfile:\n",
    "    write = csv.writer(csvfile)\n",
    "    write.writerow(fields)\n",
    "    write.writerows(rows)"
   ]
  },
  {
   "cell_type": "markdown",
   "metadata": {},
   "source": [
    "# Exception handling"
   ]
  },
  {
   "cell_type": "code",
   "execution_count": 28,
   "metadata": {},
   "outputs": [],
   "source": [
    "# Write dictionary\n",
    "d =[{'branch': 'COE', 'cgpa': '9.0', 'name': 'Nikhil', 'year': '2'}, \n",
    "         {'branch': 'COE', 'cgpa': '9.1', 'name': 'Sanchit', 'year': '2'}, \n",
    "         {'branch': 'IT', 'cgpa': '9.3', 'name': 'Aditya', 'year': '2'}, \n",
    "         {'branch': 'SE', 'cgpa': '9.5', 'name': 'Sagar', 'year': '1'}, \n",
    "         {'branch': 'MCE', 'cgpa': '7.8', 'name': 'Prateek', 'year': '3'}, \n",
    "         {'branch': 'EP', 'cgpa': '9.1', 'name': 'Sahil', 'year': '2'}] \n",
    "  \n",
    "# field names \n",
    "fields = ['name', 'branch', 'year', 'cgpa'] \n",
    "\n",
    "with open('students_new.csv','w') as csvfile:\n",
    "    write = csv.DictWriter(csvfile, fieldnames = fields)\n",
    "    write.writeheader()\n",
    "    write.writerows(d)\n",
    "    "
   ]
  },
  {
   "cell_type": "code",
   "execution_count": 97,
   "metadata": {},
   "outputs": [
    {
     "name": "stdout",
     "output_type": "stream",
     "text": [
      "Successfully divided\n"
     ]
    }
   ],
   "source": [
    "# Try and Except clause\n",
    "try:\n",
    "    a = 10/2\n",
    "except:\n",
    "    print('Can not divide by zero')\n",
    "else:\n",
    "    print('Successfully divided')"
   ]
  },
  {
   "cell_type": "code",
   "execution_count": 100,
   "metadata": {},
   "outputs": [
    {
     "name": "stdout",
     "output_type": "stream",
     "text": [
      "Successfull\n"
     ]
    }
   ],
   "source": [
    "# IndexError, SyntaxError\n",
    "\n",
    "l = [0,1,2]\n",
    "try:\n",
    "    a = 10/2\n",
    "except IndexError:\n",
    "    print(\"Invalid index\")\n",
    "else:\n",
    "    print(\"Successfull\")\n"
   ]
  },
  {
   "cell_type": "code",
   "execution_count": 102,
   "metadata": {},
   "outputs": [
    {
     "name": "stdout",
     "output_type": "stream",
     "text": [
      "Important code here\n"
     ]
    },
    {
     "ename": "FileNotFoundError",
     "evalue": "[Errno 2] No such file or directory: 'new.txt'",
     "output_type": "error",
     "traceback": [
      "\u001b[0;31m---------------------------------------------------------------------------\u001b[0m",
      "\u001b[0;31mFileNotFoundError\u001b[0m                         Traceback (most recent call last)",
      "\u001b[0;32m<ipython-input-102-8277185d7d8e>\u001b[0m in \u001b[0;36m<module>\u001b[0;34m()\u001b[0m\n\u001b[1;32m      1\u001b[0m \u001b[0;31m# Try and Finally clause\u001b[0m\u001b[0;34m\u001b[0m\u001b[0;34m\u001b[0m\u001b[0m\n\u001b[1;32m      2\u001b[0m \u001b[0;32mtry\u001b[0m\u001b[0;34m:\u001b[0m\u001b[0;34m\u001b[0m\u001b[0m\n\u001b[0;32m----> 3\u001b[0;31m     \u001b[0mfile\u001b[0m \u001b[0;34m=\u001b[0m \u001b[0mopen\u001b[0m\u001b[0;34m(\u001b[0m\u001b[0;34m'new.txt'\u001b[0m\u001b[0;34m)\u001b[0m\u001b[0;34m\u001b[0m\u001b[0m\n\u001b[0m\u001b[1;32m      4\u001b[0m \u001b[0;32mfinally\u001b[0m\u001b[0;34m:\u001b[0m\u001b[0;34m\u001b[0m\u001b[0m\n\u001b[1;32m      5\u001b[0m     \u001b[0mprint\u001b[0m\u001b[0;34m(\u001b[0m\u001b[0;34m'Important code here'\u001b[0m\u001b[0;34m)\u001b[0m\u001b[0;34m\u001b[0m\u001b[0m\n",
      "\u001b[0;31mFileNotFoundError\u001b[0m: [Errno 2] No such file or directory: 'new.txt'"
     ]
    }
   ],
   "source": [
    "# Try and Finally clause\n",
    "try:\n",
    "    file = open('new.txt')\n",
    "finally:\n",
    "    print('Important code here')\n"
   ]
  },
  {
   "cell_type": "code",
   "execution_count": 104,
   "metadata": {},
   "outputs": [
    {
     "name": "stdout",
     "output_type": "stream",
     "text": [
      "Please enter valid number\n"
     ]
    }
   ],
   "source": [
    "# Raise an exception\n",
    "\n",
    "class TooLarge(Exception):\n",
    "    def __init__(self):\n",
    "        return None\n",
    "\n",
    "def square(n):\n",
    "    if n > 1000:\n",
    "        raise TooLarge\n",
    "    else:\n",
    "        print(n ** 2)\n",
    "try:\n",
    "    square(100000)\n",
    "except TooLarge:\n",
    "    print(\"Please enter valid number\")\n"
   ]
  },
  {
   "cell_type": "markdown",
   "metadata": {},
   "source": [
    "# Regular Expression"
   ]
  },
  {
   "cell_type": "markdown",
   "metadata": {},
   "source": [
    "Special Sequences\n",
    "``\\d`` : Matches any decimal digit.\n",
    "``\\s`` : Matches white space ,eg : will match ``MTX Group Inc``, wont match ``MTXVision2025``.\n",
    "``\\w`` : Matches any alphanumeric character, eg : matches ``12&\": ;c``, won't match ``!@^``.\n",
    "``\\b`` : Matches if specified characters are at the begining of the string.\n",
    "            eg  : ``\\bpython`` matches ``Python is awesome``, won't match ``love_python``"
   ]
  },
  {
   "cell_type": "code",
   "execution_count": 114,
   "metadata": {},
   "outputs": [
    {
     "name": "stdout",
     "output_type": "stream",
     "text": [
      "no match\n"
     ]
    }
   ],
   "source": [
    "# re module\n",
    "import re\n",
    "pattern = '[abc]'\n",
    "string = 'edf'\n",
    "check= re.match(pattern, string)\n",
    "if check:\n",
    "    print('match')\n",
    "else:\n",
    "    print('no match')"
   ]
  },
  {
   "cell_type": "code",
   "execution_count": 116,
   "metadata": {},
   "outputs": [
    {
     "name": "stdout",
     "output_type": "stream",
     "text": [
      "no match\n"
     ]
    }
   ],
   "source": [
    "#  ^ caret\n",
    "pattern = \"^12\"\n",
    "string = \"dss\"\n",
    "check= re.match(pattern, string)\n",
    "if check:\n",
    "    print('match')\n",
    "else:\n",
    "    print('no match')"
   ]
  },
  {
   "cell_type": "code",
   "execution_count": 123,
   "metadata": {},
   "outputs": [
    {
     "name": "stdout",
     "output_type": "stream",
     "text": [
      "Found match\n"
     ]
    }
   ],
   "source": [
    "# \\d , it matches decimal digits\n",
    "pattern = '\\d{2,4}'\n",
    "string = '3434'\n",
    "check= re.match(pattern, string)\n",
    "#if check:\n",
    " #   print('match')\n",
    "#else:\n",
    " #   print('no match')\n",
    "\n",
    "if re.search(pattern,string):\n",
    "    print(\"Found match\")\n",
    "else:\n",
    "    print(\"not found\")\n"
   ]
  },
  {
   "cell_type": "code",
   "execution_count": 124,
   "metadata": {},
   "outputs": [
    {
     "name": "stdout",
     "output_type": "stream",
     "text": [
      "['12', '89', '34']\n"
     ]
    }
   ],
   "source": [
    "# findall()\n",
    "\n",
    "string = 'hello 12 hi 89. Howdy 34'\n",
    "pattern = '[0-9]+'\n",
    "result = re.findall(pattern, string)\n",
    "print(result)\n"
   ]
  },
  {
   "cell_type": "code",
   "execution_count": 127,
   "metadata": {},
   "outputs": [
    {
     "name": "stdout",
     "output_type": "stream",
     "text": [
      "Hey55 How are you55\n"
     ]
    }
   ],
   "source": [
    "# sub()\n",
    "string = \"Hey! How are you?\"\n",
    "pattern = '[!?]'\n",
    "result = re.sub(pattern,'55',string)\n",
    "print(result)\n"
   ]
  },
  {
   "cell_type": "code",
   "execution_count": 129,
   "metadata": {},
   "outputs": [
    {
     "name": "stdout",
     "output_type": "stream",
     "text": [
      "11 and 11\n"
     ]
    }
   ],
   "source": [
    "# re prefix\n",
    "string = '\\t and \\n'\n",
    "pattern = r'[\\n\\t]'\n",
    "result = re.sub(pattern, '11', string)\n",
    "print(result)"
   ]
  },
  {
   "cell_type": "code",
   "execution_count": 131,
   "metadata": {},
   "outputs": [
    {
     "name": "stdout",
     "output_type": "stream",
     "text": [
      "no match\n"
     ]
    }
   ],
   "source": [
    "# Regular expression for 10 digit phone number in format xxx-xxx-xxxx\n",
    "string = \"1269-456-7890\"\n",
    "pattern = '^\\d{3}-\\d{3}-\\d{4}'   \n",
    "result = re.match(pattern,string)\n",
    "if result:\n",
    "    print('match')\n",
    "else:\n",
    "    print('no match')"
   ]
  },
  {
   "cell_type": "markdown",
   "metadata": {},
   "source": [
    "# Generators\n"
   ]
  },
  {
   "cell_type": "code",
   "execution_count": 108,
   "metadata": {},
   "outputs": [
    {
     "ename": "StopIteration",
     "evalue": "",
     "output_type": "error",
     "traceback": [
      "\u001b[0;31m---------------------------------------------------------------------------\u001b[0m",
      "\u001b[0;31mStopIteration\u001b[0m                             Traceback (most recent call last)",
      "\u001b[0;32m<ipython-input-108-517cc923d33f>\u001b[0m in \u001b[0;36m<module>\u001b[0;34m()\u001b[0m\n\u001b[1;32m     14\u001b[0m \u001b[0mnext\u001b[0m\u001b[0;34m(\u001b[0m\u001b[0mg\u001b[0m\u001b[0;34m)\u001b[0m\u001b[0;34m\u001b[0m\u001b[0m\n\u001b[1;32m     15\u001b[0m \u001b[0mnext\u001b[0m\u001b[0;34m(\u001b[0m\u001b[0mg\u001b[0m\u001b[0;34m)\u001b[0m\u001b[0;34m\u001b[0m\u001b[0m\n\u001b[0;32m---> 16\u001b[0;31m \u001b[0mnext\u001b[0m\u001b[0;34m(\u001b[0m\u001b[0mg\u001b[0m\u001b[0;34m)\u001b[0m\u001b[0;34m\u001b[0m\u001b[0m\n\u001b[0m",
      "\u001b[0;31mStopIteration\u001b[0m: "
     ]
    }
   ],
   "source": [
    "# Defining simple generator\n",
    "def gen():\n",
    "    i = 5\n",
    "    yield i\n",
    "    \n",
    "    i -= 1\n",
    "    yield i\n",
    "    \n",
    "    i -= 1\n",
    "    yield i\n",
    "\n",
    "g = gen()\n",
    "next(g)\n",
    "next(g)\n",
    "next(g)\n"
   ]
  },
  {
   "cell_type": "markdown",
   "metadata": {},
   "source": [
    "Generator function gen() saves state, i.e value of i will be saved after each yield statement"
   ]
  },
  {
   "cell_type": "code",
   "execution_count": 109,
   "metadata": {},
   "outputs": [
    {
     "name": "stdout",
     "output_type": "stream",
     "text": [
      "5\n",
      "4\n",
      "3\n"
     ]
    }
   ],
   "source": [
    "# Generator using for loops\n",
    "for x in gen():\n",
    "    print(x)"
   ]
  },
  {
   "cell_type": "code",
   "execution_count": 110,
   "metadata": {},
   "outputs": [
    {
     "name": "stdout",
     "output_type": "stream",
     "text": [
      "67\n",
      "45\n",
      "23\n",
      "12\n"
     ]
    }
   ],
   "source": [
    "# Reverse a list using generator\n",
    "nums = [12,23,45,67]\n",
    "         0, 1,2, 3  \n",
    "\n",
    "    for x in range(3,-1,-1)\n",
    "def reverse_list(nums):\n",
    "    for x in range(len(nums)-1,-1,-1):\n",
    "        yield nums[x]\n",
    "\n",
    "for n in reverse_list(nums):\n",
    "    print(n)\n",
    "    \n"
   ]
  },
  {
   "cell_type": "code",
   "execution_count": 111,
   "metadata": {},
   "outputs": [
    {
     "data": {
      "text/plain": [
       "1"
      ]
     },
     "execution_count": 111,
     "metadata": {},
     "output_type": "execute_result"
    }
   ],
   "source": [
    "# Generator expression\n",
    "lst = [1,2,3,4,5]\n",
    "l = [x ** 2 for x in lst]\n",
    "gen = (i ** 2 for i in lst)\n",
    "next(gen)"
   ]
  },
  {
   "cell_type": "code",
   "execution_count": 112,
   "metadata": {},
   "outputs": [
    {
     "data": {
      "text/plain": [
       "4"
      ]
     },
     "execution_count": 112,
     "metadata": {},
     "output_type": "execute_result"
    }
   ],
   "source": [
    "next(gen)"
   ]
  },
  {
   "cell_type": "code",
   "execution_count": 48,
   "metadata": {},
   "outputs": [
    {
     "name": "stdout",
     "output_type": "stream",
     "text": [
      "9\n",
      "16\n",
      "25\n"
     ]
    }
   ],
   "source": [
    "for i in gen:\n",
    "    print(i)"
   ]
  },
  {
   "cell_type": "code",
   "execution_count": null,
   "metadata": {},
   "outputs": [],
   "source": []
  }
 ],
 "metadata": {
  "kernelspec": {
   "display_name": "Python 3",
   "language": "python",
   "name": "python3"
  },
  "language_info": {
   "codemirror_mode": {
    "name": "ipython",
    "version": 3
   },
   "file_extension": ".py",
   "mimetype": "text/x-python",
   "name": "python",
   "nbconvert_exporter": "python",
   "pygments_lexer": "ipython3",
   "version": "3.6.5"
  }
 },
 "nbformat": 4,
 "nbformat_minor": 2
}
